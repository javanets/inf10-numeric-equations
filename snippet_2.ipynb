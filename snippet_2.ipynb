{
 "cells": [
  {
   "cell_type": "markdown",
   "metadata": {},
   "source": [
    "## Настройте окружение перед началом работы"
   ]
  },
  {
   "cell_type": "code",
   "execution_count": 1,
   "metadata": {
    "slideshow": {
     "slide_type": "skip"
    }
   },
   "outputs": [],
   "source": [
    "# Импортируйте необходимые библиотеки:\n",
    "\n",
    "import numpy as np\n",
    "import matplotlib\n",
    "import matplotlib.pyplot as plt"
   ]
  },
  {
   "cell_type": "code",
   "execution_count": 2,
   "metadata": {},
   "outputs": [],
   "source": [
    "# Настройте отображение графиков:\n",
    "\n",
    "from pylab import rcParams\n",
    "from matplotlib import rc\n",
    "\n",
    "rcParams['figure.figsize'] = 20, 12\n",
    "rc('font',**{'family':'DejaVu Sans Mono', 'size': 16})"
   ]
  },
  {
   "cell_type": "markdown",
   "metadata": {
    "slideshow": {
     "slide_type": "slide"
    }
   },
   "source": [
    "## Метод бисекции"
   ]
  },
  {
   "cell_type": "markdown",
   "metadata": {
    "slideshow": {
     "slide_type": "slide"
    }
   },
   "source": [
    "### Задание 2.1 (`snippet_2.ipynb`)\n",
    "\n",
    "Реализуйте нахождение корня уравнения $\\cos \\left( \\sin x + 2x \\right) = 0$ на отрезке $[0,1]$ методом бисекции."
   ]
  },
  {
   "cell_type": "code",
   "execution_count": null,
   "metadata": {
    "slideshow": {
     "slide_type": "slide"
    }
   },
   "outputs": [],
   "source": [
    "# Выполните задание 2.1 в этой ячейке\n",
    "\n"
   ]
  },
  {
   "cell_type": "markdown",
   "metadata": {
    "slideshow": {
     "slide_type": "slide"
    }
   },
   "source": [
    "### Задание 2.2\n",
    "\n",
    "Напишите универсальную функцию `find_root(func, a, b)`, позволяющую находить единственный корень уравнения `func(x) == 0` на отрезке `[a; b]` методом бисекции."
   ]
  },
  {
   "cell_type": "code",
   "execution_count": null,
   "metadata": {
    "slideshow": {
     "slide_type": "slide"
    }
   },
   "outputs": [],
   "source": [
    "# Выполните задание 2.2 в этой ячейке\n",
    "\n"
   ]
  },
  {
   "cell_type": "markdown",
   "metadata": {
    "slideshow": {
     "slide_type": "slide"
    }
   },
   "source": [
    "### Домашнее задание\n",
    "\n",
    "Напишите универсальную функцию `find_root(func, a, b)`, позволяющую отделять корни уравнения `func(x) == 0` на отрезке `[a; b]`, отстоящие друг от друга не менее, чем на $\\delta$, а затем эффективно находить их с точностью не менее $\\varepsilon$."
   ]
  },
  {
   "cell_type": "code",
   "execution_count": null,
   "metadata": {},
   "outputs": [],
   "source": [
    "# Выполните домашнее задание в этой ячейке\n",
    "\n",
    "\n"
   ]
  }
 ],
 "metadata": {
  "kernelspec": {
   "display_name": "Python 3",
   "language": "python",
   "name": "python3"
  },
  "language_info": {
   "codemirror_mode": {
    "name": "ipython",
    "version": 3
   },
   "file_extension": ".py",
   "mimetype": "text/x-python",
   "name": "python",
   "nbconvert_exporter": "python",
   "pygments_lexer": "ipython3",
   "version": "3.7.4"
  },
  "livereveal": {
   "transition": "none"
  }
 },
 "nbformat": 4,
 "nbformat_minor": 2
}
